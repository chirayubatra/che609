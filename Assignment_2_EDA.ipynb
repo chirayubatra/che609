{
 "cells": [
  {
   "cell_type": "markdown",
   "metadata": {},
   "source": [
    "## Assignment 2: EDA with Python"
   ]
  },
  {
   "cell_type": "markdown",
   "metadata": {},
   "source": [
    "#### 1. Import Libraries\n",
    "- Importing the required libraries to be used for analysis "
   ]
  },
  {
   "cell_type": "code",
   "execution_count": 1,
   "metadata": {},
   "outputs": [],
   "source": [
    "import numpy as np\n",
    "import matplotlib.pyplot as plt \n",
    "import pandas as pd\n",
    "import seaborn as sns"
   ]
  },
  {
   "cell_type": "code",
   "execution_count": 2,
   "metadata": {},
   "outputs": [],
   "source": [
    "%matplotlib inline\n",
    "sns.set(color_codes=True)\n",
    "plt.style.use(\"bmh\")\n",
    "plt.rcParams.update({\"figure.figsize\" : (6, 4),\n",
    "                     \"axes.facecolor\" : \"white\",\n",
    "                     \"axes.edgecolor\":  \"black\"})"
   ]
  },
  {
   "cell_type": "markdown",
   "metadata": {},
   "source": [
    "#### 2. Load the data to a file "
   ]
  },
  {
   "cell_type": "markdown",
   "metadata": {},
   "source": [
    "- The data is an output set that is expected to be obtained after running my simulations for thermal hydraulics analyis using porous media approach;\n",
    "- It uses semicolon as a separator, but can easily be converted to csv by simple macro in vim\n",
    "    - Convert all semicolons to comma\n",
    "                :%s/;/,/g\n",
    "    - remove the last character from each line\n",
    "                :%s/.\\{1}$//\n",
    "- Use panda data frame to read the csv file"
   ]
  },
  {
   "cell_type": "code",
   "execution_count": 3,
   "metadata": {},
   "outputs": [],
   "source": [
    "data_file = 'https://raw.githubusercontent.com/chirayubatra/che609/master/Nuclear.dat'\n",
    "data = pd.read_csv(data_file)\n",
    "df = pd.DataFrame(data)"
   ]
  },
  {
   "cell_type": "code",
   "execution_count": 4,
   "metadata": {},
   "outputs": [
    {
     "data": {
      "text/plain": [
       "(465, 14)"
      ]
     },
     "execution_count": 4,
     "metadata": {},
     "output_type": "execute_result"
    }
   ],
   "source": [
    "df.shape"
   ]
  },
  {
   "cell_type": "markdown",
   "metadata": {},
   "source": [
    "- use df.head(n) to take a look at the data and if it has been imported porperly"
   ]
  },
  {
   "cell_type": "code",
   "execution_count": 5,
   "metadata": {},
   "outputs": [
    {
     "data": {
      "text/html": [
       "<div>\n",
       "<style scoped>\n",
       "    .dataframe tbody tr th:only-of-type {\n",
       "        vertical-align: middle;\n",
       "    }\n",
       "\n",
       "    .dataframe tbody tr th {\n",
       "        vertical-align: top;\n",
       "    }\n",
       "\n",
       "    .dataframe thead th {\n",
       "        text-align: right;\n",
       "    }\n",
       "</style>\n",
       "<table border=\"1\" class=\"dataframe\">\n",
       "  <thead>\n",
       "    <tr style=\"text-align: right;\">\n",
       "      <th></th>\n",
       "      <th>time(s)</th>\n",
       "      <th>keff(-)</th>\n",
       "      <th>power(W)</th>\n",
       "      <th>flux0</th>\n",
       "      <th>flux1(m-2s-1)</th>\n",
       "      <th>TFuel_Max</th>\n",
       "      <th>Avg</th>\n",
       "      <th>Min</th>\n",
       "      <th>TCladding_Max</th>\n",
       "      <th>Avg.1</th>\n",
       "      <th>Min.1</th>\n",
       "      <th>TCoolant_Max</th>\n",
       "      <th>Avg.2</th>\n",
       "      <th>Min(K)</th>\n",
       "    </tr>\n",
       "  </thead>\n",
       "  <tbody>\n",
       "    <tr>\n",
       "      <th>0</th>\n",
       "      <td>200.000010</td>\n",
       "      <td>1.00346</td>\n",
       "      <td>10056000.0</td>\n",
       "      <td>4914500.0</td>\n",
       "      <td>5141900.0</td>\n",
       "      <td>1228.0</td>\n",
       "      <td>800.49</td>\n",
       "      <td>600.95</td>\n",
       "      <td>713.6</td>\n",
       "      <td>647.53</td>\n",
       "      <td>600.18</td>\n",
       "      <td>685.92</td>\n",
       "      <td>628.47</td>\n",
       "      <td>600.02</td>\n",
       "    </tr>\n",
       "    <tr>\n",
       "      <th>1</th>\n",
       "      <td>200.000022</td>\n",
       "      <td>1.00346</td>\n",
       "      <td>10122000.0</td>\n",
       "      <td>4946700.0</td>\n",
       "      <td>5175500.0</td>\n",
       "      <td>1228.0</td>\n",
       "      <td>800.49</td>\n",
       "      <td>600.95</td>\n",
       "      <td>713.6</td>\n",
       "      <td>647.53</td>\n",
       "      <td>600.18</td>\n",
       "      <td>685.92</td>\n",
       "      <td>628.47</td>\n",
       "      <td>600.02</td>\n",
       "    </tr>\n",
       "    <tr>\n",
       "      <th>2</th>\n",
       "      <td>200.000036</td>\n",
       "      <td>1.00346</td>\n",
       "      <td>10199000.0</td>\n",
       "      <td>4984000.0</td>\n",
       "      <td>5214600.0</td>\n",
       "      <td>1228.0</td>\n",
       "      <td>800.49</td>\n",
       "      <td>600.95</td>\n",
       "      <td>713.6</td>\n",
       "      <td>647.53</td>\n",
       "      <td>600.18</td>\n",
       "      <td>685.92</td>\n",
       "      <td>628.47</td>\n",
       "      <td>600.02</td>\n",
       "    </tr>\n",
       "    <tr>\n",
       "      <th>3</th>\n",
       "      <td>200.000054</td>\n",
       "      <td>1.00346</td>\n",
       "      <td>10287000.0</td>\n",
       "      <td>5027100.0</td>\n",
       "      <td>5259700.0</td>\n",
       "      <td>1228.0</td>\n",
       "      <td>800.49</td>\n",
       "      <td>600.95</td>\n",
       "      <td>713.6</td>\n",
       "      <td>647.53</td>\n",
       "      <td>600.18</td>\n",
       "      <td>685.92</td>\n",
       "      <td>628.47</td>\n",
       "      <td>600.02</td>\n",
       "    </tr>\n",
       "    <tr>\n",
       "      <th>4</th>\n",
       "      <td>200.000074</td>\n",
       "      <td>1.00346</td>\n",
       "      <td>10384000.0</td>\n",
       "      <td>5074800.0</td>\n",
       "      <td>5309600.0</td>\n",
       "      <td>1228.0</td>\n",
       "      <td>800.49</td>\n",
       "      <td>600.95</td>\n",
       "      <td>713.6</td>\n",
       "      <td>647.53</td>\n",
       "      <td>600.18</td>\n",
       "      <td>685.92</td>\n",
       "      <td>628.47</td>\n",
       "      <td>600.02</td>\n",
       "    </tr>\n",
       "    <tr>\n",
       "      <th>5</th>\n",
       "      <td>200.000095</td>\n",
       "      <td>1.00346</td>\n",
       "      <td>10482000.0</td>\n",
       "      <td>5122700.0</td>\n",
       "      <td>5359700.0</td>\n",
       "      <td>1228.0</td>\n",
       "      <td>800.49</td>\n",
       "      <td>600.95</td>\n",
       "      <td>713.6</td>\n",
       "      <td>647.53</td>\n",
       "      <td>600.18</td>\n",
       "      <td>685.92</td>\n",
       "      <td>628.47</td>\n",
       "      <td>600.02</td>\n",
       "    </tr>\n",
       "    <tr>\n",
       "      <th>6</th>\n",
       "      <td>200.000117</td>\n",
       "      <td>1.00346</td>\n",
       "      <td>10581000.0</td>\n",
       "      <td>5171000.0</td>\n",
       "      <td>5410200.0</td>\n",
       "      <td>1228.0</td>\n",
       "      <td>800.49</td>\n",
       "      <td>600.95</td>\n",
       "      <td>713.6</td>\n",
       "      <td>647.53</td>\n",
       "      <td>600.18</td>\n",
       "      <td>685.92</td>\n",
       "      <td>628.47</td>\n",
       "      <td>600.02</td>\n",
       "    </tr>\n",
       "    <tr>\n",
       "      <th>7</th>\n",
       "      <td>200.000141</td>\n",
       "      <td>1.00346</td>\n",
       "      <td>10681000.0</td>\n",
       "      <td>5219600.0</td>\n",
       "      <td>5461000.0</td>\n",
       "      <td>1228.0</td>\n",
       "      <td>800.49</td>\n",
       "      <td>600.95</td>\n",
       "      <td>713.6</td>\n",
       "      <td>647.53</td>\n",
       "      <td>600.18</td>\n",
       "      <td>685.92</td>\n",
       "      <td>628.47</td>\n",
       "      <td>600.02</td>\n",
       "    </tr>\n",
       "  </tbody>\n",
       "</table>\n",
       "</div>"
      ],
      "text/plain": [
       "      time(s)  keff(-)    power(W)      flux0  flux1(m-2s-1)  TFuel_Max  \\\n",
       "0  200.000010  1.00346  10056000.0  4914500.0      5141900.0     1228.0   \n",
       "1  200.000022  1.00346  10122000.0  4946700.0      5175500.0     1228.0   \n",
       "2  200.000036  1.00346  10199000.0  4984000.0      5214600.0     1228.0   \n",
       "3  200.000054  1.00346  10287000.0  5027100.0      5259700.0     1228.0   \n",
       "4  200.000074  1.00346  10384000.0  5074800.0      5309600.0     1228.0   \n",
       "5  200.000095  1.00346  10482000.0  5122700.0      5359700.0     1228.0   \n",
       "6  200.000117  1.00346  10581000.0  5171000.0      5410200.0     1228.0   \n",
       "7  200.000141  1.00346  10681000.0  5219600.0      5461000.0     1228.0   \n",
       "\n",
       "      Avg     Min  TCladding_Max   Avg.1   Min.1  TCoolant_Max   Avg.2  Min(K)  \n",
       "0  800.49  600.95          713.6  647.53  600.18        685.92  628.47  600.02  \n",
       "1  800.49  600.95          713.6  647.53  600.18        685.92  628.47  600.02  \n",
       "2  800.49  600.95          713.6  647.53  600.18        685.92  628.47  600.02  \n",
       "3  800.49  600.95          713.6  647.53  600.18        685.92  628.47  600.02  \n",
       "4  800.49  600.95          713.6  647.53  600.18        685.92  628.47  600.02  \n",
       "5  800.49  600.95          713.6  647.53  600.18        685.92  628.47  600.02  \n",
       "6  800.49  600.95          713.6  647.53  600.18        685.92  628.47  600.02  \n",
       "7  800.49  600.95          713.6  647.53  600.18        685.92  628.47  600.02  "
      ]
     },
     "execution_count": 5,
     "metadata": {},
     "output_type": "execute_result"
    }
   ],
   "source": [
    "df.head(8)"
   ]
  },
  {
   "cell_type": "code",
   "execution_count": 6,
   "metadata": {},
   "outputs": [
    {
     "data": {
      "text/plain": [
       "Index(['time(s)', 'keff(-)', 'power(W)', 'flux0', 'flux1(m-2s-1)', 'TFuel_Max',\n",
       "       'Avg', 'Min', 'TCladding_Max', 'Avg.1', 'Min.1', 'TCoolant_Max',\n",
       "       'Avg.2', 'Min(K)'],\n",
       "      dtype='object')"
      ]
     },
     "execution_count": 6,
     "metadata": {},
     "output_type": "execute_result"
    }
   ],
   "source": [
    "df.columns"
   ]
  },
  {
   "cell_type": "code",
   "execution_count": 7,
   "metadata": {},
   "outputs": [
    {
     "data": {
      "text/plain": [
       "time(s)          float64\n",
       "keff(-)          float64\n",
       "power(W)         float64\n",
       "flux0            float64\n",
       "flux1(m-2s-1)    float64\n",
       "TFuel_Max        float64\n",
       "Avg              float64\n",
       "Min              float64\n",
       "TCladding_Max    float64\n",
       "Avg.1            float64\n",
       "Min.1            float64\n",
       "TCoolant_Max     float64\n",
       "Avg.2            float64\n",
       "Min(K)           float64\n",
       "dtype: object"
      ]
     },
     "execution_count": 7,
     "metadata": {},
     "output_type": "execute_result"
    }
   ],
   "source": [
    "df.dtypes"
   ]
  },
  {
   "cell_type": "markdown",
   "metadata": {},
   "source": [
    "#### 3. Plot the power value"
   ]
  },
  {
   "cell_type": "code",
   "execution_count": 8,
   "metadata": {},
   "outputs": [
    {
     "data": {
      "image/png": "[encoded data removed]",
      "text/plain": [
       "<Figure size 432x288 with 1 Axes>"
      ]
     },
     "metadata": {},
     "output_type": "display_data"
    }
   ],
   "source": [
    "plt.plot(df['time(s)'], df['power(W)'], 'r--',label='power')\n",
    "plt.ylabel('Normalized Power')\n",
    "plt.xlabel('time(s)')\n",
    "plt.title('Core Power')\n",
    "plt.grid(False)"
   ]
  },
  {
   "cell_type": "markdown",
   "metadata": {},
   "source": [
    "The above plot shows normalized power, and it can be observed that the initial peak happened at the start of the transient and then due to SCRAM, power is reduced to decay heat"
   ]
  },
  {
   "cell_type": "markdown",
   "metadata": {},
   "source": [
    "#### 4. Plot average coolant temperature"
   ]
  },
  {
   "cell_type": "code",
   "execution_count": 9,
   "metadata": {},
   "outputs": [
    {
     "data": {
      "image/png": "[encoded data removed]",
      "text/plain": [
       "<Figure size 432x288 with 1 Axes>"
      ]
     },
     "metadata": {},
     "output_type": "display_data"
    }
   ],
   "source": [
    "plt.plot(df['time(s)'], df['Avg.2'], 'g--',label='Average Coolant Temperature')\n",
    "plt.ylabel('Average Coolant Temperature')\n",
    "plt.xlabel('time(s)')\n",
    "plt.title('Avg. Coolant Temp.')\n",
    "plt.grid(False)"
   ]
  },
  {
   "cell_type": "markdown",
   "metadata": {},
   "source": [
    "There is a slight increase in the coolant temperature due to power increase, and then it stabilizes as the decay heat removal process starts"
   ]
  },
  {
   "cell_type": "markdown",
   "metadata": {},
   "source": [
    "### Summary"
   ]
  },
  {
   "cell_type": "markdown",
   "metadata": {},
   "source": [
    "This is a simple example that shows how to initialize a jupyter notebook, import the data from existing format in pandas dataframe and then use matplotlib to plot required graphs for analysis"
   ]
  },
  {
   "cell_type": "code",
   "execution_count": null,
   "metadata": {},
   "outputs": [],
   "source": []
  }
 ],
 "metadata": {
  "kernelspec": {
   "display_name": "Python 3",
   "language": "python",
   "name": "python3"
  },
  "language_info": {
   "codemirror_mode": {
    "name": "ipython",
    "version": 3
   },
   "file_extension": ".py",
   "mimetype": "text/x-python",
   "name": "python",
   "nbconvert_exporter": "python",
   "pygments_lexer": "ipython3",
   "version": "3.7.3"
  }
 },
 "nbformat": 4,
 "nbformat_minor": 2
}
